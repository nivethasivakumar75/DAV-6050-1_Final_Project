{
 "cells": [
  {
   "cell_type": "markdown",
   "id": "3b568425-ac66-4394-bb58-08c84cda628c",
   "metadata": {},
   "source": [
    "# Import Statements"
   ]
  },
  {
   "cell_type": "code",
   "execution_count": 28,
   "id": "9c25dc82-d04c-462e-8808-42bd6d91d670",
   "metadata": {},
   "outputs": [],
   "source": [
    "import pandas as pd "
   ]
  },
  {
   "cell_type": "markdown",
   "id": "f40d75ee-dea4-48d4-875a-feb1bcd6ccff",
   "metadata": {},
   "source": [
    "# Data Loading"
   ]
  },
  {
   "cell_type": "code",
   "execution_count": 31,
   "id": "968e57c2-7136-41bc-b6e1-6ffd9e1ebead",
   "metadata": {},
   "outputs": [],
   "source": [
    "  # Convert the content to a pandas DataFrame\n",
    "taxi_df = pd.read_parquet(\"green_tripdata_2024-09.parquet\")\n",
    "weather_df = pd.read_csv(\"nyc_weather.csv\")"
   ]
  },
  {
   "cell_type": "markdown",
   "id": "049b6e73-5cbf-416f-b0c6-6ead362a80d0",
   "metadata": {},
   "source": [
    "# Taxi Data Handling"
   ]
  },
  {
   "cell_type": "code",
   "execution_count": 34,
   "id": "82d2c806-72cf-437d-932d-4d6f8ee7361b",
   "metadata": {},
   "outputs": [],
   "source": [
    "# Green Taxi Data Handling\n",
    "taxi_df['lpep_pickup_datetime'] = pd.to_datetime(taxi_df['lpep_pickup_datetime'])\n",
    "taxi_df['lpep_dropoff_datetime'] = pd.to_datetime(taxi_df['lpep_dropoff_datetime'])\n",
    "taxi_df['RatecodeID'] = taxi_df['RatecodeID'].astype(str)\n",
    "taxi_df['payment_type'] = taxi_df['payment_type'].astype(str)\n",
    "taxi_df['trip_type'] = taxi_df['trip_type'].astype(str)\n",
    "\n",
    "# Null Handling\n",
    "taxi_df = taxi_df.drop(columns = 'ehail_fee')\n",
    "taxi_df = taxi_df.dropna()\n",
    "\n",
    "# Data Bucketing\n",
    "taxi_df['source_date'] = pd.to_datetime(taxi_df['lpep_pickup_datetime'].dt.date)\n",
    "# Extracting hour component from timestamp\n",
    "taxi_df['hour'] = taxi_df['source_date'].dt.hour"
   ]
  },
  {
   "cell_type": "markdown",
   "id": "07b4dcbf-3611-4175-82ee-e587529d08cd",
   "metadata": {},
   "source": [
    "# Weather Data Handling"
   ]
  },
  {
   "cell_type": "code",
   "execution_count": 37,
   "id": "3850dfe6",
   "metadata": {},
   "outputs": [],
   "source": [
    "# Weather Data Handling\n",
    "weather_df = weather_df[['datetime','temp', 'feelslike', 'dew', 'humidity','precip', 'snow', 'windspeed', 'conditions' ,'icon']]\n",
    "weather_df['datetime'] = pd.to_datetime(weather_df['datetime'])\n",
    "weather_df = weather_df[(weather_df['datetime'].dt.year == 2024) & (weather_df['datetime'].dt.month == 9)]\n",
    "\n",
    "def get_time_of_day(hour):\n",
    "    if 6 <= hour < 12:\n",
    "        return 'Morning'\n",
    "    elif 12 <= hour < 18:\n",
    "        return 'Afternoon'\n",
    "    elif 18 <= hour < 22:\n",
    "        return 'Evening'\n",
    "    else:\n",
    "        return 'Night'\n",
    "\n",
    "\n",
    "# Data Bucketing\n",
    "weather_df['source_date'] = pd.to_datetime(weather_df['datetime'].dt.date)\n",
    "weather_df['hour'] = weather_df['datetime'].dt.hour\n",
    "weather_df['time_of_day'] = weather_df['hour'].apply(get_time_of_day)"
   ]
  },
  {
   "cell_type": "markdown",
   "id": "bd23b956-903e-44aa-9982-5704d2b843e5",
   "metadata": {},
   "source": [
    "# Merging Data"
   ]
  },
  {
   "cell_type": "code",
   "execution_count": 46,
   "id": "6394eacd-3220-472c-a999-42fa738a5030",
   "metadata": {},
   "outputs": [],
   "source": [
    "# Data Merging\n",
    "merged_df = pd.merge(taxi_df, weather_df, on=['source_date', 'hour'], how='inner')\n",
    "\n",
    "# Convert the transformed DataFrame back to CSV format\n",
    "transformed_csv = merged_df.to_csv(\"ddo_merged_data.csv\")"
   ]
  }
 ],
 "metadata": {
  "kernelspec": {
   "display_name": "Python 3 (ipykernel)",
   "language": "python",
   "name": "python3"
  },
  "language_info": {
   "codemirror_mode": {
    "name": "ipython",
    "version": 3
   },
   "file_extension": ".py",
   "mimetype": "text/x-python",
   "name": "python",
   "nbconvert_exporter": "python",
   "pygments_lexer": "ipython3",
   "version": "3.12.4"
  }
 },
 "nbformat": 4,
 "nbformat_minor": 5
}
